{
 "cells": [
  {
   "cell_type": "code",
   "execution_count": 1,
   "metadata": {},
   "outputs": [
    {
     "data": {
      "text/plain": [
       "'#Setting de directorios\\nCURRENT_DIR=os.getcwd()\\nPXI_DATA_DIR=os.path.join(CURRENT_DIR,os.pardir,\"data\",\\'PXI\\')\\nos.path.exists(PXI_DATA_DIR)\\ncanal_pxi=pd.read_csv(os.path.join(PXI_DATA_DIR,\\'885.csv\\'))\\n'"
      ]
     },
     "execution_count": 1,
     "metadata": {},
     "output_type": "execute_result"
    }
   ],
   "source": [
    "'''#Setting de directorios\n",
    "CURRENT_DIR=os.getcwd()\n",
    "PXI_DATA_DIR=os.path.join(CURRENT_DIR,os.pardir,\"data\",'PXI')\n",
    "os.path.exists(PXI_DATA_DIR)\n",
    "canal_pxi=pd.read_csv(os.path.join(PXI_DATA_DIR,'885.csv'))\n",
    "'''"
   ]
  },
  {
   "cell_type": "code",
   "execution_count": 2,
   "metadata": {},
   "outputs": [],
   "source": [
    "import os"
   ]
  },
  {
   "cell_type": "code",
   "execution_count": 22,
   "metadata": {},
   "outputs": [],
   "source": [
    "CURRENT_DIR=os.getcwd()\n",
    "DATA_DIR=os.path.join(CURRENT_DIR,os.pardir,\"app\",\"static\",\"images\")"
   ]
  },
  {
   "cell_type": "code",
   "execution_count": 23,
   "metadata": {},
   "outputs": [
    {
     "data": {
      "text/plain": [
       "True"
      ]
     },
     "execution_count": 23,
     "metadata": {},
     "output_type": "execute_result"
    }
   ],
   "source": [
    "os.path.exists(DATA_DIR)"
   ]
  },
  {
   "cell_type": "code",
   "execution_count": 5,
   "metadata": {},
   "outputs": [
    {
     "name": "stdout",
     "output_type": "stream",
     "text": [
      "c:\\Users\\ggarc\\Desktop\\Tesis\\sdrscan\\..\n"
     ]
    }
   ],
   "source": [
    "os.path.join(CURRENT_DIR,os.pardir)"
   ]
  },
  {
   "cell_type": "code",
   "execution_count": 8,
   "metadata": {},
   "outputs": [
    {
     "name": "stdout",
     "output_type": "stream",
     "text": [
      "c:\\Users\\ggarc\\Desktop\\Tesis\\sdrscan\\..\\..\n"
     ]
    }
   ],
   "source": [
    "PATH1=os.path.join(CURRENT_DIR,os.pardir,os.pardir)\n",
    "print(PATH1)"
   ]
  },
  {
   "cell_type": "code",
   "execution_count": null,
   "metadata": {},
   "outputs": [],
   "source": []
  }
 ],
 "metadata": {
  "interpreter": {
   "hash": "a3c0b527bf8369379fee68c1c12683f12594e360116d321e71f4f71d12057eac"
  },
  "kernelspec": {
   "display_name": "Python 3.9.0 64-bit",
   "language": "python",
   "name": "python3"
  },
  "language_info": {
   "codemirror_mode": {
    "name": "ipython",
    "version": 3
   },
   "file_extension": ".py",
   "mimetype": "text/x-python",
   "name": "python",
   "nbconvert_exporter": "python",
   "pygments_lexer": "ipython3",
   "version": "3.9.0"
  },
  "orig_nbformat": 4
 },
 "nbformat": 4,
 "nbformat_minor": 2
}
